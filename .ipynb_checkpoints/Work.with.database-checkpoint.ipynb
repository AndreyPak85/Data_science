{
 "cells": [
  {
   "cell_type": "markdown",
   "metadata": {},
   "source": [
    "SQL и PANDAS"
   ]
  },
  {
   "cell_type": "markdown",
   "metadata": {},
   "source": [
    "### 1.1 \n",
    "\n",
    "Подготовка данных:"
   ]
  },
  {
   "cell_type": "code",
   "execution_count": 3,
   "metadata": {},
   "outputs": [
    {
     "name": "stdout",
     "output_type": "stream",
     "text": [
      "Какие таблицы содержатся в Postgres: [('keywords',), ('links',), ('ratings',), ('course_purchases',)]\n"
     ]
    },
    {
     "data": {
      "text/html": [
       "<div>\n",
       "<style scoped>\n",
       "    .dataframe tbody tr th:only-of-type {\n",
       "        vertical-align: middle;\n",
       "    }\n",
       "\n",
       "    .dataframe tbody tr th {\n",
       "        vertical-align: top;\n",
       "    }\n",
       "\n",
       "    .dataframe thead th {\n",
       "        text-align: right;\n",
       "    }\n",
       "</style>\n",
       "<table border=\"1\" class=\"dataframe\">\n",
       "  <thead>\n",
       "    <tr style=\"text-align: right;\">\n",
       "      <th></th>\n",
       "      <th>userid</th>\n",
       "      <th>movieid</th>\n",
       "      <th>rating</th>\n",
       "      <th>timestamp</th>\n",
       "    </tr>\n",
       "  </thead>\n",
       "  <tbody>\n",
       "    <tr>\n",
       "      <th>0</th>\n",
       "      <td>4463</td>\n",
       "      <td>924</td>\n",
       "      <td>4.0</td>\n",
       "      <td>1100831685</td>\n",
       "    </tr>\n",
       "    <tr>\n",
       "      <th>1</th>\n",
       "      <td>4463</td>\n",
       "      <td>1025</td>\n",
       "      <td>3.5</td>\n",
       "      <td>1100755105</td>\n",
       "    </tr>\n",
       "    <tr>\n",
       "      <th>2</th>\n",
       "      <td>4463</td>\n",
       "      <td>1073</td>\n",
       "      <td>4.0</td>\n",
       "      <td>1100825419</td>\n",
       "    </tr>\n",
       "    <tr>\n",
       "      <th>3</th>\n",
       "      <td>4463</td>\n",
       "      <td>1101</td>\n",
       "      <td>3.0</td>\n",
       "      <td>1120809183</td>\n",
       "    </tr>\n",
       "    <tr>\n",
       "      <th>4</th>\n",
       "      <td>4463</td>\n",
       "      <td>1127</td>\n",
       "      <td>3.5</td>\n",
       "      <td>1100753902</td>\n",
       "    </tr>\n",
       "  </tbody>\n",
       "</table>\n",
       "</div>"
      ],
      "text/plain": [
       "   userid  movieid  rating   timestamp\n",
       "0    4463      924     4.0  1100831685\n",
       "1    4463     1025     3.5  1100755105\n",
       "2    4463     1073     4.0  1100825419\n",
       "3    4463     1101     3.0  1120809183\n",
       "4    4463     1127     3.5  1100753902"
      ]
     },
     "execution_count": 3,
     "metadata": {},
     "output_type": "execute_result"
    }
   ],
   "source": [
    "import psycopg2\n",
    "import pandas as pd\n",
    "import sqlite3\n",
    "\n",
    "pg_connection = {\n",
    "    \"host\": \"dsstudents.skillbox.ru\",\n",
    "    \"port\": 5432,\n",
    "    \"dbname\": \"db_ds_students\",\n",
    "    \"user\": \"readonly\",\n",
    "    \"password\": \"6hajV34RTQfmxhS\"\n",
    "}\n",
    "conn = psycopg2.connect(**pg_connection)\n",
    "\n",
    "cursor = conn.cursor()\n",
    "sql_str = \"SELECT table_name FROM information_schema.tables WHERE table_schema='public';\"\n",
    "cursor.execute(sql_str)\n",
    "tables_data = [a for a in cursor.fetchall()]\n",
    "conn.commit()\n",
    "\n",
    "print(\"Какие таблицы содержатся в Postgres: %s\" % tables_data)\n",
    "\n",
    "df = pd.read_sql_query(\"select * from public.ratings limit 5;\", conn)\n",
    "df.head()"
   ]
  },
  {
   "cell_type": "markdown",
   "metadata": {},
   "source": [
    "Аналитика Pandas и работа c DB PostgreSQL"
   ]
  },
  {
   "cell_type": "code",
   "execution_count": 5,
   "metadata": {},
   "outputs": [
    {
     "name": "stdout",
     "output_type": "stream",
     "text": [
      "table keywords:92838\n",
      "table links:91686\n",
      "table ratings:1555552\n",
      "table course_purchases:154\n"
     ]
    }
   ],
   "source": [
    "import psycopg2\n",
    "\n",
    "pg_connection = {\n",
    "    \"host\": \"pass\",\n",
    "    \"port\": 5432,\n",
    "    \"dbname\": \"db_ds\",\n",
    "    \"user\": \"readonly\",\n",
    "    \"password\": \"pass\"\n",
    "}\n",
    "conn = psycopg2.connect(**pg_connection)\n",
    "cursor = conn.cursor()\n",
    "\n",
    "table_names = [i[0] for i in tables_data]\n",
    "for table in table_names:\n",
    "        sql_str = \"SELECT COUNT(*) FROM public.{} LIMIT 1;\".format(table)\n",
    "        cursor.execute(sql_str)\n",
    "        row_count = [a for a in cursor.fetchall()][0][0]\n",
    "        print(\"table {}:{}\".format(table, row_count))\n",
    "\n",
    "cursor.close()"
   ]
  },
  {
   "cell_type": "code",
   "execution_count": 1,
   "metadata": {},
   "outputs": [
    {
     "name": "stdout",
     "output_type": "stream",
     "text": [
      "[(862, \"[{'id': 931, 'name': 'jealousy'}, {'id': 4290, 'name': 'toy'}, {'id': 5202, 'name': 'boy'}, {'id': 6054, 'name': 'friendship'}, {'id': 9713, 'name': 'friends'}, {'id': 9823, 'name': 'rivalry'}, {'id': 165503, 'name': 'boy next door'}, {'id': 170722, 'name': 'new toy'}, {'id': 187065, 'name': 'toy comes to life'}]\"), (8844, '[{\\'id\\': 10090, \\'name\\': \\'board game\\'}, {\\'id\\': 10941, \\'name\\': \\'disappearance\\'}, {\\'id\\': 15101, \\'name\\': \"based on children\\'s book\"}, {\\'id\\': 33467, \\'name\\': \\'new home\\'}, {\\'id\\': 158086, \\'name\\': \\'recluse\\'}, {\\'id\\': 158091, \\'name\\': \\'giant insect\\'}]'), (15602, \"[{'id': 1495, 'name': 'fishing'}, {'id': 12392, 'name': 'best friend'}, {'id': 179431, 'name': 'duringcreditsstinger'}, {'id': 208510, 'name': 'old men'}]\"), (31357, \"[{'id': 818, 'name': 'based on novel'}, {'id': 10131, 'name': 'interracial relationship'}, {'id': 14768, 'name': 'single mother'}, {'id': 15160, 'name': 'divorce'}, {'id': 33455, 'name': 'chick flick'}]\"), (11862, \"[{'id': 1009, 'name': 'baby'}, {'id': 1599, 'name': 'midlife crisis'}, {'id': 2246, 'name': 'confidence'}, {'id': 4995, 'name': 'aging'}, {'id': 5600, 'name': 'daughter'}, {'id': 10707, 'name': 'mother daughter relationship'}, {'id': 13149, 'name': 'pregnancy'}, {'id': 33358, 'name': 'contraception'}, {'id': 170521, 'name': 'gynecologist'}]\")]\n"
     ]
    }
   ],
   "source": [
    "import psycopg2\n",
    "\n",
    "pg_connection = {\n",
    "    \"host\": \"pass\",\n",
    "    \"port\": 5432,\n",
    "    \"dbname\": \"db_ds_s\",\n",
    "    \"user\": \"readonly\",\n",
    "    \"password\": \"pass\"\n",
    "}\n",
    "conn = psycopg2.connect(**pg_connection)\n",
    "cursor = conn.cursor()\n",
    "\n",
    "cursor.execute(\"SELECT * FROM keywords LIMIT 5;\")\n",
    "print(cursor.fetchall())\n",
    "cursor.close()"
   ]
  },
  {
   "cell_type": "code",
   "execution_count": 4,
   "metadata": {},
   "outputs": [
    {
     "name": "stdout",
     "output_type": "stream",
     "text": [
      "Поля таблицы ratings: ['userid', 'movieid', 'rating', 'timestamp']\n"
     ]
    }
   ],
   "source": [
    "import psycopg2\n",
    "\n",
    "pg_connection = {\n",
    "    \"host\": \"pass\",\n",
    "    \"port\": 5432,\n",
    "    \"dbname\": \"db_ds\",\n",
    "    \"user\": \"readonly\",\n",
    "    \"password\": \"pass\"\n",
    "}\n",
    "conn = psycopg2.connect(**pg_connection)\n",
    "cursor = conn.cursor()\n",
    "\n",
    "sql_str = \"SELECT * FROM ratings LIMIT 10;\"\n",
    "cursor.execute(sql_str)\n",
    "conn.commit()\n",
    "table_rating_fields = []\n",
    "table_rating_fields = [desc[0] for desc in cursor.description]\n",
    "print(\"Поля таблицы ratings: %s\" % table_rating_fields)\n",
    "\n",
    "cursor.close()"
   ]
  },
  {
   "cell_type": "markdown",
   "metadata": {},
   "source": [
    "Создание запроса в SQL "
   ]
  },
  {
   "cell_type": "code",
   "execution_count": 8,
   "metadata": {},
   "outputs": [
    {
     "name": "stdout",
     "output_type": "stream",
     "text": [
      "   userid  movieid  rating   timestamp\n",
      "0    4490        1     5.0   994047533\n",
      "1    4493        1     4.0  1322208878\n",
      "2    4481        1     4.5  1079905235\n",
      "3    4489        1     4.0   874983794\n",
      "4    4492        1     5.0  1258409444\n",
      "5    4473        1     4.0   868396522\n",
      "6    4467        1     5.0   860090531\n",
      "7    4477        1     3.0   860583991\n",
      "8    4476        1     5.0   833644404\n",
      "9    4495        1     5.0   833880174\n",
      "   movieid   imdbid tmdbid\n",
      "0        1  0114709    862\n",
      "1        1  0114709    862\n",
      "2        2  0113497   8844\n",
      "3        2  0113497   8844\n",
      "4        3  0113228  15602\n",
      "5        3  0113228  15602\n",
      "6        4  0114885  31357\n",
      "7        4  0114885  31357\n",
      "8        5  0113041  11862\n",
      "9        5  0113041  11862\n",
      "Джойнить по полю movieid!\n",
      "\n",
      "Фильмов не имеют рейтинга:  [(28333,)]\n"
     ]
    }
   ],
   "source": [
    "import psycopg2\n",
    "\n",
    "pg_connection = {\n",
    "    \"host\": \"pass\",\n",
    "    \"port\": 5432,\n",
    "    \"dbname\": \"db_ds\\\",\n",
    "    \"user\": \"readonly\",\n",
    "    \"password\": \"pass\"\n",
    "}\n",
    "conn = psycopg2.connect(**pg_connection)\n",
    "cursor = conn.cursor()\n",
    "cursor.execute(\"SELECT * FROM ratings;\")\n",
    "conn.commit()\n",
    "table_rating_fields = []\n",
    "table_rating_fields = [desc[0] for desc in cursor.description]\n",
    "cursor.execute(\"SELECT * FROM ratings ORDER BY movieid LIMIT 10 ;\")\n",
    "conn.commit()\n",
    "tableRatings = []\n",
    "tableRatings = cursor.fetchall()\n",
    "boardRatings = pd.DataFrame(tableRatings)\n",
    "boardRatings.columns = table_rating_fields\n",
    "print(boardRatings)\n",
    "cursor.execute(\"SELECT * FROM links;\")\n",
    "conn.commit()\n",
    "table_links_fields2 = []\n",
    "table_links_fields2 = [desc[0] for desc in cursor.description]\n",
    "cursor.execute(\"SELECT * FROM links ORDER BY movieid LIMIT 10;\")\n",
    "conn.commit()\n",
    "tableLinks = []\n",
    "tableLinks = cursor.fetchall()\n",
    "boardLinks = pd.DataFrame(tableLinks)\n",
    "boardLinks.columns = table_links_fields2\n",
    "print(boardLinks)\n",
    "print(\"Джойнить по полю movieid!\")\n",
    "print()\n",
    "sqlRequest = '''SELECT COUNT(LL.movieid) \n",
    "                FROM  (SELECT movieid \n",
    "                    FROM (SELECT links.movieid, COUNT(tmdbid) AS tmd \n",
    "                        FROM links GROUP BY links.movieid) AS L) AS LL\n",
    "                    \n",
    "                LEFT OUTER JOIN (SELECT movieid, CR \n",
    "                    FROM (SELECT ratings.movieid, COUNT(rating) AS CR \n",
    "                        FROM ratings GROUP BY ratings.movieid) AS R)AS RR  ON LL.movieid = RR.movieid \n",
    "                WHERE CR IS NULL;'''\n",
    "cursor.execute(sqlRequest) \n",
    "conn.commit()\n",
    "print(\"Фильмов не имеют рейтинга: \", cursor.fetchall())\n",
    "cursor.close()"
   ]
  },
  {
   "cell_type": "markdown",
   "metadata": {},
   "source": [
    "Работа с БД: MongoDB"
   ]
  },
  {
   "cell_type": "code",
   "execution_count": 9,
   "metadata": {},
   "outputs": [
    {
     "name": "stdout",
     "output_type": "stream",
     "text": [
      "Коллекции, доступные в MongoDB: ['tags', 'users']\n",
      "Число документов в коллекции 158680\n"
     ]
    }
   ],
   "source": [
    "from pymongo import MongoClient\n",
    "\n",
    "mongo_connection = {\n",
    "    \"host\": \"pass\",\n",
    "    \"port\": 27017,\n",
    "    \"user\": \"pass\",\n",
    "    \"password\": \"pass\",\n",
    "    \"authSource\": \"movies\"\n",
    "}\n",
    "\n",
    "mongo = MongoClient('mongodb://%s:%s@%s:%s/?authSource=%s' % (\n",
    "    mongo_connection['user'], mongo_connection['password'],\n",
    "    mongo_connection['host'], mongo_connection['port'], mongo_connection['authSource'])\n",
    ")\n",
    "db = mongo[\"movies\"]\n",
    "\n",
    "print(\"Коллекции, доступные в MongoDB: %s\" % db.list_collection_names())\n",
    "\n",
    "collection = db['tags']\n",
    "print(\"Число документов в коллекции %s\" % collection.estimated_document_count())"
   ]
  },
  {
   "cell_type": "code",
   "execution_count": 24,
   "metadata": {},
   "outputs": [
    {
     "name": "stdout",
     "output_type": "stream",
     "text": [
      "Количество контента с тэгом 'toy': 19\n",
      "\n"
     ]
    }
   ],
   "source": [
    "selector = {'name': 'toy'}\n",
    "exclude_id = {'_id': False}\n",
    "mongo_cursor = collection.find(projection=exclude_id, filter={'name': 'toy'})\n",
    "cursor_items = [item for item in mongo_cursor]\n",
    "print(\"Количество контента с тэгом 'toy': %s\\n\" % len(cursor_items))"
   ]
  },
  {
   "cell_type": "code",
   "execution_count": 74,
   "metadata": {},
   "outputs": [
    {
     "name": "stdout",
     "output_type": "stream",
     "text": [
      "['ancient tablet', 'remains', 'robespierre', 'social scandal', 'brain implant', 'adam west', 'arm cast', 'acab', 'gas explosion', 'female psychologist']\n"
     ]
    }
   ],
   "source": [
    "from pymongo import MongoClient\n",
    "mongo_connection = {\n",
    "    \"host\": \"pass\",\n",
    "    \"port\": 27017,\n",
    "    \"user\": \"pass\",\n",
    "    \"password\": \"pass\",\n",
    "    \"authSource\": \"movies\"\n",
    "}\n",
    "\n",
    "mongo = MongoClient('mongodb://%s:%s@%s:%s/?authSource=%s' % (\n",
    "    mongo_connection['user'], mongo_connection['password'],\n",
    "    mongo_connection['host'], mongo_connection['port'], mongo_connection['authSource'])\n",
    ")\n",
    "db = mongo[\"movies\"]\n",
    "pipline = [\n",
    "    {\"$group\":\n",
    "        {\"_id\": \"$name\",\n",
    "         \"tag_count\":\n",
    "            {\"$sum\": 1}\n",
    "         }\n",
    "     },\n",
    "    {\"$sort\":\n",
    "        {\"tag_count\": 1}\n",
    "     },\n",
    "    {\"$limit\": 10}\n",
    "]\n",
    "\n",
    "table1 = []\n",
    "table = ([i for i in collection.aggregate(pipline)])\n",
    "for i in range(len(table)):\n",
    "    table1.append(table[i]['_id'])\n",
    "\n",
    "print(table1)"
   ]
  },
  {
   "cell_type": "code",
   "execution_count": 171,
   "metadata": {},
   "outputs": [],
   "source": [
    "import psycopg2\n",
    "import random\n",
    "import json\n",
    "\n",
    "pg_connection = {\n",
    "    \"host\": \"pass\",\n",
    "    \"port\": 5432,\n",
    "    \"dbname\": \"db_ds\",\n",
    "    \"user\": \"readonly\",\n",
    "    \"password\": \"pass\"\n",
    "}\n",
    "conn = psycopg2.connect(**pg_connection)\n",
    "cursor = conn.cursor()\n",
    "\n",
    "cursor.execute(\"\"\"SELECT movieid FROM ratings ORDER BY rating DESC LIMIT 10;\"\"\")\n",
    "conn.commit()\n",
    "popularMovieID = cursor.fetchall()\n",
    "\n",
    "slovar = {}\n",
    "spisok = []\n",
    "for i in range(len(popularMovieID)):\n",
    "    slovar['movieID'] = popularMovieID[i][0]\n",
    "    slovar['popularity'] = popularMovieID[i][0] * random.randint(2,3)\n",
    "    spisok.append(dict(slovar))\n",
    "spisok = json.dumps(spisok)\n",
    "spisok = spisok.replace('[', '')\n",
    "spisok = spisok.replace(']', '')\n",
    "\n",
    "with open('content_popularity.json ', 'w') as outfile:\n",
    "    json.dump(spisok, outfile)"
   ]
  }
 ],
 "metadata": {
  "kernelspec": {
   "display_name": "Python 3",
   "language": "python",
   "name": "python3"
  },
  "language_info": {
   "codemirror_mode": {
    "name": "ipython",
    "version": 3
   },
   "file_extension": ".py",
   "mimetype": "text/x-python",
   "name": "python",
   "nbconvert_exporter": "python",
   "pygments_lexer": "ipython3",
   "version": "3.7.3"
  }
 },
 "nbformat": 4,
 "nbformat_minor": 2
}
