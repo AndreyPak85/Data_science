{
 "cells": [
  {
   "cell_type": "markdown",
   "metadata": {},
   "source": [
    "Сформировать словарь IP адрес, количество повторений"
   ]
  },
  {
   "cell_type": "code",
   "execution_count": 19,
   "metadata": {},
   "outputs": [
    {
     "name": "stdout",
     "output_type": "stream",
     "text": [
      "{'192.168.101.4': 1, '192.168.102.3': 2, '192.168.7.46': 1}\n"
     ]
    }
   ],
   "source": [
    "file_path = './data/uwsgi.log'\n",
    "\n",
    "ip_counter = dict()\n",
    "count = 1;\n",
    "data = []\n",
    "with open(file_path, 'r') as f:\n",
    "    for row in f:\n",
    "        partRow = row.split(' ')\n",
    "        if len(partRow) > 1:\n",
    "            data.append(partRow[0])\n",
    "data.sort()\n",
    "for i in range(len(data)-1):\n",
    "    if data[i] == data[i+1]:\n",
    "        count += 1\n",
    "    else:\n",
    "        ip_counter.update({data[i]: count})\n",
    "        count = 1\n",
    "        \n",
    "ip_counter.update({data[-1]: count})       \n",
    "print(ip_counter)"
   ]
  },
  {
   "cell_type": "markdown",
   "metadata": {},
   "source": [
    "Выбрать адреса из списка"
   ]
  },
  {
   "cell_type": "code",
   "execution_count": 20,
   "metadata": {},
   "outputs": [
    {
     "name": "stdout",
     "output_type": "stream",
     "text": [
      "/movie/is_personalizable/?history_type=watch&uid=5734473158358418&master_uid=5734473158358418\n",
      "/logger/content/time/\n",
      "/movie/collection/items/recommendations/?uid=1623029046&master_uid=1623029046&collection_id=1525&subsite=141&app_version=10924&user_ab_bucket=10679\n",
      "/movie/recommendations/?uid=803285924&master_uid=803285924&iid=102751&user_ab_bucket=12493&top=30&scenario_id=ITEM_PAGE&app_version=15100&subsite=3021\n"
     ]
    }
   ],
   "source": [
    "data = []\n",
    "with open(file_path, 'r') as f:\n",
    "    for row in f:\n",
    "        partRow = row.split(' ')\n",
    "        if len(partRow) > 1:\n",
    "            print(partRow[6])\n"
   ]
  },
  {
   "cell_type": "markdown",
   "metadata": {},
   "source": [
    "Обработка текста"
   ]
  },
  {
   "cell_type": "code",
   "execution_count": 21,
   "metadata": {},
   "outputs": [
    {
     "name": "stdout",
     "output_type": "stream",
     "text": [
      "{'/movie/is_personalizable/?history_type=watch&uid=5734473158358418&master_uid=5734473158358418': datetime.datetime(2019, 2, 5, 21, 36, 7), '/logger/content/time/': datetime.datetime(2019, 2, 5, 21, 36, 7), '/movie/collection/items/recommendations/?uid=1623029046&master_uid=1623029046&collection_id=1525&subsite=141&app_version=10924&user_ab_bucket=10679': datetime.datetime(2019, 2, 5, 21, 36, 7), '/movie/recommendations/?uid=803285924&master_uid=803285924&iid=102751&user_ab_bucket=12493&top=30&scenario_id=ITEM_PAGE&app_version=15100&subsite=3021': datetime.datetime(2019, 2, 5, 21, 36, 7)}\n"
     ]
    }
   ],
   "source": [
    "import datetime\n",
    "access_dournal = dict()\n",
    "data = []\n",
    "\n",
    "def month_number(x):\n",
    "    if (x == 'jan'):\n",
    "        return 1\n",
    "    if (x == 'feb'):\n",
    "        return 2\n",
    "    if (x == 'mar'):\n",
    "        return 3\n",
    "    if (x == 'apr'):\n",
    "        return 4\n",
    "    if (x == 'may'):\n",
    "        return 5\n",
    "    if (x == 'jun'):\n",
    "        return 6;\n",
    "    if (x == 'jul'):\n",
    "        return 7\n",
    "    if (x == 'aug'):\n",
    "        return 8\n",
    "    if (x == 'sep'):\n",
    "        return 9\n",
    "    if (x == 'oct'):\n",
    "        return 10\n",
    "    if (x == 'nov'):\n",
    "        return 11\n",
    "    if (x == 'dec'):\n",
    "        return 12\n",
    "\n",
    "with open(file_path, 'r') as f:\n",
    "    for row in f:\n",
    "        partRow = row.split(' ')\n",
    "        if len(partRow) > 1:\n",
    "            data.append(partRow[3])\n",
    "\n",
    "for i in range(len(data)):\n",
    "    data[i] = data[i].replace('[', '')\n",
    "    data[i] = data[i].split('/')\n",
    "\n",
    "for i in range(len(data)):\n",
    "    data[i][1] = month_number(data[i][1].lower())\n",
    "    \n",
    "for i in range(len(data)):\n",
    "    data[i][0] = int(data[i][0])\n",
    "tmp = []\n",
    "for i in range(len(data)):\n",
    "    tmp.append(data[i][2].split(':'))\n",
    "\n",
    "for i in range(len(tmp)):\n",
    "    for j in range(len(tmp)):\n",
    "        tmp[i][j] = int(tmp[i][j])\n",
    "\n",
    "for i in range(len(data)):\n",
    "    del(data[i][2]) \n",
    "        \n",
    "for i in range(len(tmp)):\n",
    "    for j in range(len(tmp)):\n",
    "        data[i].append(tmp[0][j])\n",
    "dt = []        \n",
    "for i in range(len(data)):\n",
    "    date = data[i][0]\n",
    "    month = data[i][1]\n",
    "    year = data[i][2]\n",
    "    hour = data[i][3]\n",
    "    minute = data[i][4]\n",
    "    seconds = data[i][5]\n",
    "    daTime = datetime.datetime(year, month, date, hour, minute, seconds)\n",
    "    dt.append(daTime)\n",
    "    \n",
    "url = []\n",
    "with open(file_path, 'r') as f:\n",
    "    for row in f:\n",
    "        partRow = row.split(' ')\n",
    "        if len(partRow) > 1:\n",
    "            url.append(partRow[6])\n",
    "dic = {}\n",
    "for i in url:\n",
    "    for j in dt:\n",
    "        dic[i] = j\n",
    "print(dic)"
   ]
  },
  {
   "cell_type": "markdown",
   "metadata": {},
   "source": [
    "Обработка и работка с csv"
   ]
  },
  {
   "cell_type": "code",
   "execution_count": 4,
   "metadata": {},
   "outputs": [
    {
     "name": "stdout",
     "output_type": "stream",
     "text": [
      "[['HYDRA-535', 'Пробрасывать пользовательское распределение paid_types в ехидну', 'echidna', '1'], ['HYDRA-534', 'Гибридный рекомендатель с multi-channel feedback', 'hydra', '3'], ['HYDRA-532', 'Джоба в дженкинсе для расчёта динамики РВП', 'hydramatrices', '2'], ['HYDRA-531', 'Интеграция Hydra с Gamora', 'hydramagrices', '4'], ['HYDRA-530', 'Тестируем интеграцию с Jira', 'hydra', '2'], ['HYDRA-527', 'Поправить функцию _get_ui_rec_matrix', 'hydra', '10'], ['HYDRA-524', 'Оптимизировать матрицу ItemFactors', 'hydra', '2'], ['HYDRA-523', 'Сортировка ЦПБ', 'hydra', '5'], ['HYDRA-520', 'Закостылить параметр top', 'hydra', '2'], ['HYDRA-519', \"Сделать 'stable' конфигом по умолчанию в Гидре\", 'hydra', '2'], ['HYDRA-518', 'Неудобно тестировать запись в redis', 'hydramatrices', '1'], ['HYDRA-517', 'Улучшить рекомендации (первая итерация)', 'hydra', '7'], ['HYDRA-514', 'Добавить логирование в скрипты hydra/bin', 'hydramagrices', '5'], ['HYDRA-513', 'Поправить storage_backend', 'hydramatrices', '2'], ['HYDRA-511', 'Перемешивание рекомендаций для старых пользователей', 'hydra', '5'], ['HYDRA-510', 'Поправить скрипты bpr и и оценщика', 'hydra_utils', '16'], ['HYDRA-509', 'Динамические персональные рекомендации', 'hydra', '10'], ['HYDRA-507', 'Навести порядок в prepare_data_for_hydra', 'hydramagrices', '3'], ['HYDRA-506', 'Техдолг по логике /collection/recommendations/', 'hydra', '24']]\n"
     ]
    }
   ],
   "source": [
    "import csv\n",
    "from collections import OrderedDict\n",
    "\n",
    "file_path = './data/task.csv'\n",
    "\n",
    "columns_dict = dict()\n",
    "arr = []\n",
    "with open(file_path, newline='') as csvfile:\n",
    "    reader = csv.DictReader(csvfile)\n",
    "    for row in reader:\n",
    "        arr.append(list(row.values()))\n",
    "        columns_dict = dict(row)\n",
    "kod = []\n",
    "tema = []\n",
    "component = []\n",
    "time = []\n",
    "for i in range(len(arr)):\n",
    "    kod.append(arr[i][0])\n",
    "    tema.append(arr[i][1])\n",
    "    component.append(arr[i][2])\n",
    "    time.append(int(arr[i][3]))\n",
    "columns_dict['Код'] = kod\n",
    "columns_dict['Тема'] = tema\n",
    "columns_dict['Компонент'] = component\n",
    "columns_dict['Затрачено в часах'] = time\n"
   ]
  },
  {
   "cell_type": "markdown",
   "metadata": {},
   "source": [
    "Обработка текста и создание функций для обработки"
   ]
  },
  {
   "cell_type": "code",
   "execution_count": 17,
   "metadata": {},
   "outputs": [
    {
     "name": "stdout",
     "output_type": "stream",
     "text": [
      "min_val=1, max_val=24, mean_val=5.578947368421052\n"
     ]
    }
   ],
   "source": [
    "min_val, max_val, mean_val = None, None, None\n",
    "import numpy as np\n",
    "min_val = min(columns_dict['Затрачено в часах'])\n",
    "max_val = max(columns_dict['Затрачено в часах'])\n",
    "mean_val = np.mean(columns_dict['Затрачено в часах'])\n",
    "print(\"min_val={}, max_val={}, mean_val={}\".format(min_val, max_val, mean_val))"
   ]
  },
  {
   "cell_type": "code",
   "execution_count": 18,
   "metadata": {},
   "outputs": [
    {
     "name": "stdout",
     "output_type": "stream",
     "text": [
      "Всего часов где встречается \"рекомендации\":  25  в процентах: 23.58490566037736\n",
      "Всего часов где не встречается \"рекомендации\":  81  в процентах: 76.41509433962264\n"
     ]
    },
    {
     "data": {
      "text/plain": [
       "{'recs': 23.58490566037736, 'non_recs': 76.41509433962264}"
      ]
     },
     "execution_count": 18,
     "metadata": {},
     "output_type": "execute_result"
    }
   ],
   "source": [
    "task_recs_counter = {'recs': 1, 'non_recs': 2}\n",
    "countR = 0\n",
    "countNR = 0\n",
    "sumR = 0\n",
    "with open(file_path, newline='') as csvfile:\n",
    "    reader = csv.DictReader(csvfile)\n",
    "    for row in reader:\n",
    "        if ('рекоменд' in row['Тема']):\n",
    "            countR += int (row['Затрачено в часах'])\n",
    "        sumR += int(row['Затрачено в часах'])\n",
    "odinPer = sumR/100\n",
    "countNR = sumR - countR\n",
    "recs = countR/odinPer\n",
    "non_recs = countNR/odinPer\n",
    "print('Всего часов где встречается \"рекомендации\": ', countR, ' в процентах:', recs)\n",
    "print('Всего часов где не встречается \"рекомендации\": ',countNR , ' в процентах:', non_recs)\n",
    "task_recs_counter['recs'] = recs\n",
    "task_recs_counter['non_recs'] = non_recs\n",
    "task_recs_counter"
   ]
  },
  {
   "cell_type": "markdown",
   "metadata": {},
   "source": [
    "обработка в пандас"
   ]
  },
  {
   "cell_type": "code",
   "execution_count": 12,
   "metadata": {},
   "outputs": [
    {
     "name": "stderr",
     "output_type": "stream",
     "text": [
      "C:\\Users\\Andrey\\Anaconda3\\lib\\site-packages\\pandas\\core\\groupby\\generic.py:1315: FutureWarning: using a dict with renaming is deprecated and will be removed in a future version\n",
      "  return super(DataFrameGroupBy, self).aggregate(arg, *args, **kwargs)\n"
     ]
    },
    {
     "data": {
      "text/html": [
       "<div>\n",
       "<style scoped>\n",
       "    .dataframe tbody tr th:only-of-type {\n",
       "        vertical-align: middle;\n",
       "    }\n",
       "\n",
       "    .dataframe tbody tr th {\n",
       "        vertical-align: top;\n",
       "    }\n",
       "\n",
       "    .dataframe thead th {\n",
       "        text-align: right;\n",
       "    }\n",
       "</style>\n",
       "<table border=\"1\" class=\"dataframe\">\n",
       "  <thead>\n",
       "    <tr style=\"text-align: right;\">\n",
       "      <th></th>\n",
       "      <th>Код</th>\n",
       "      <th>Тема</th>\n",
       "      <th>Компонент</th>\n",
       "      <th>Затрачено в часах</th>\n",
       "    </tr>\n",
       "  </thead>\n",
       "  <tbody>\n",
       "    <tr>\n",
       "      <th>0</th>\n",
       "      <td>HYDRA-535</td>\n",
       "      <td>Пробрасывать пользовательское распределение pa...</td>\n",
       "      <td>echidna</td>\n",
       "      <td>1</td>\n",
       "    </tr>\n",
       "    <tr>\n",
       "      <th>1</th>\n",
       "      <td>HYDRA-534</td>\n",
       "      <td>Гибридный рекомендатель с multi-channel feedback</td>\n",
       "      <td>hydra</td>\n",
       "      <td>3</td>\n",
       "    </tr>\n",
       "    <tr>\n",
       "      <th>2</th>\n",
       "      <td>HYDRA-532</td>\n",
       "      <td>Джоба в дженкинсе для расчёта динамики РВП</td>\n",
       "      <td>hydramatrices</td>\n",
       "      <td>2</td>\n",
       "    </tr>\n",
       "    <tr>\n",
       "      <th>3</th>\n",
       "      <td>HYDRA-531</td>\n",
       "      <td>Интеграция Hydra с Gamora</td>\n",
       "      <td>hydramagrices</td>\n",
       "      <td>4</td>\n",
       "    </tr>\n",
       "    <tr>\n",
       "      <th>4</th>\n",
       "      <td>HYDRA-530</td>\n",
       "      <td>Тестируем интеграцию с Jira</td>\n",
       "      <td>hydra</td>\n",
       "      <td>2</td>\n",
       "    </tr>\n",
       "    <tr>\n",
       "      <th>5</th>\n",
       "      <td>HYDRA-527</td>\n",
       "      <td>Поправить функцию _get_ui_rec_matrix</td>\n",
       "      <td>hydra</td>\n",
       "      <td>10</td>\n",
       "    </tr>\n",
       "    <tr>\n",
       "      <th>6</th>\n",
       "      <td>HYDRA-524</td>\n",
       "      <td>Оптимизировать матрицу ItemFactors</td>\n",
       "      <td>hydra</td>\n",
       "      <td>2</td>\n",
       "    </tr>\n",
       "    <tr>\n",
       "      <th>7</th>\n",
       "      <td>HYDRA-523</td>\n",
       "      <td>Сортировка ЦПБ</td>\n",
       "      <td>hydra</td>\n",
       "      <td>5</td>\n",
       "    </tr>\n",
       "    <tr>\n",
       "      <th>8</th>\n",
       "      <td>HYDRA-520</td>\n",
       "      <td>Закостылить параметр top</td>\n",
       "      <td>hydra</td>\n",
       "      <td>2</td>\n",
       "    </tr>\n",
       "    <tr>\n",
       "      <th>9</th>\n",
       "      <td>HYDRA-519</td>\n",
       "      <td>Сделать 'stable' конфигом по умолчанию в Гидре</td>\n",
       "      <td>hydra</td>\n",
       "      <td>2</td>\n",
       "    </tr>\n",
       "    <tr>\n",
       "      <th>10</th>\n",
       "      <td>HYDRA-518</td>\n",
       "      <td>Неудобно тестировать запись в redis</td>\n",
       "      <td>hydramatrices</td>\n",
       "      <td>1</td>\n",
       "    </tr>\n",
       "    <tr>\n",
       "      <th>11</th>\n",
       "      <td>HYDRA-517</td>\n",
       "      <td>Улучшить рекомендации (первая итерация)</td>\n",
       "      <td>hydra</td>\n",
       "      <td>7</td>\n",
       "    </tr>\n",
       "    <tr>\n",
       "      <th>12</th>\n",
       "      <td>HYDRA-514</td>\n",
       "      <td>Добавить логирование в скрипты hydra/bin</td>\n",
       "      <td>hydramagrices</td>\n",
       "      <td>5</td>\n",
       "    </tr>\n",
       "    <tr>\n",
       "      <th>13</th>\n",
       "      <td>HYDRA-513</td>\n",
       "      <td>Поправить storage_backend</td>\n",
       "      <td>hydramatrices</td>\n",
       "      <td>2</td>\n",
       "    </tr>\n",
       "    <tr>\n",
       "      <th>14</th>\n",
       "      <td>HYDRA-511</td>\n",
       "      <td>Перемешивание рекомендаций для старых пользова...</td>\n",
       "      <td>hydra</td>\n",
       "      <td>5</td>\n",
       "    </tr>\n",
       "    <tr>\n",
       "      <th>15</th>\n",
       "      <td>HYDRA-510</td>\n",
       "      <td>Поправить скрипты bpr и и оценщика</td>\n",
       "      <td>hydra_utils</td>\n",
       "      <td>16</td>\n",
       "    </tr>\n",
       "    <tr>\n",
       "      <th>16</th>\n",
       "      <td>HYDRA-509</td>\n",
       "      <td>Динамические персональные рекомендации</td>\n",
       "      <td>hydra</td>\n",
       "      <td>10</td>\n",
       "    </tr>\n",
       "    <tr>\n",
       "      <th>17</th>\n",
       "      <td>HYDRA-507</td>\n",
       "      <td>Навести порядок в prepare_data_for_hydra</td>\n",
       "      <td>hydramagrices</td>\n",
       "      <td>3</td>\n",
       "    </tr>\n",
       "    <tr>\n",
       "      <th>18</th>\n",
       "      <td>HYDRA-506</td>\n",
       "      <td>Техдолг по логике /collection/recommendations/</td>\n",
       "      <td>hydra</td>\n",
       "      <td>24</td>\n",
       "    </tr>\n",
       "  </tbody>\n",
       "</table>\n",
       "</div>"
      ],
      "text/plain": [
       "          Код                                               Тема  \\\n",
       "0   HYDRA-535  Пробрасывать пользовательское распределение pa...   \n",
       "1   HYDRA-534   Гибридный рекомендатель с multi-channel feedback   \n",
       "2   HYDRA-532         Джоба в дженкинсе для расчёта динамики РВП   \n",
       "3   HYDRA-531                          Интеграция Hydra с Gamora   \n",
       "4   HYDRA-530                        Тестируем интеграцию с Jira   \n",
       "5   HYDRA-527               Поправить функцию _get_ui_rec_matrix   \n",
       "6   HYDRA-524                 Оптимизировать матрицу ItemFactors   \n",
       "7   HYDRA-523                                     Сортировка ЦПБ   \n",
       "8   HYDRA-520                           Закостылить параметр top   \n",
       "9   HYDRA-519     Сделать 'stable' конфигом по умолчанию в Гидре   \n",
       "10  HYDRA-518                Неудобно тестировать запись в redis   \n",
       "11  HYDRA-517            Улучшить рекомендации (первая итерация)   \n",
       "12  HYDRA-514           Добавить логирование в скрипты hydra/bin   \n",
       "13  HYDRA-513                          Поправить storage_backend   \n",
       "14  HYDRA-511  Перемешивание рекомендаций для старых пользова...   \n",
       "15  HYDRA-510                 Поправить скрипты bpr и и оценщика   \n",
       "16  HYDRA-509             Динамические персональные рекомендации   \n",
       "17  HYDRA-507           Навести порядок в prepare_data_for_hydra   \n",
       "18  HYDRA-506     Техдолг по логике /collection/recommendations/   \n",
       "\n",
       "        Компонент  Затрачено в часах  \n",
       "0         echidna                  1  \n",
       "1           hydra                  3  \n",
       "2   hydramatrices                  2  \n",
       "3   hydramagrices                  4  \n",
       "4           hydra                  2  \n",
       "5           hydra                 10  \n",
       "6           hydra                  2  \n",
       "7           hydra                  5  \n",
       "8           hydra                  2  \n",
       "9           hydra                  2  \n",
       "10  hydramatrices                  1  \n",
       "11          hydra                  7  \n",
       "12  hydramagrices                  5  \n",
       "13  hydramatrices                  2  \n",
       "14          hydra                  5  \n",
       "15    hydra_utils                 16  \n",
       "16          hydra                 10  \n",
       "17  hydramagrices                  3  \n",
       "18          hydra                 24  "
      ]
     },
     "execution_count": 12,
     "metadata": {},
     "output_type": "execute_result"
    }
   ],
   "source": [
    "import numpy as np\n",
    "import pandas as pd\n",
    "\n",
    "\n",
    "file_path = './data/task.csv'\n",
    "df = pd.read_csv(file_path)\n",
    "\n",
    "aggregation_json = {\n",
    " 'Затрачено в часах': {\n",
    "  'mean_val': np.mean, 'max_val': np.max, 'sum': np.count_nonzero}\n",
    "}\n",
    "\n",
    "df.groupby(by=['Компонент'])[['Затрачено в часах']].aggregate(aggregation_json)\n",
    "df"
   ]
  },
  {
   "cell_type": "markdown",
   "metadata": {},
   "source": [
    "обарботка текста"
   ]
  },
  {
   "cell_type": "code",
   "execution_count": 14,
   "metadata": {},
   "outputs": [
    {
     "name": "stdout",
     "output_type": "stream",
     "text": [
      "Исходный DataFrame:\n",
      "  key  val\n",
      "0   a    1\n",
      "1   a    2\n",
      "Применяем apply:\n"
     ]
    },
    {
     "data": {
      "text/plain": [
       "key\n",
       "a    [1, 2]\n",
       "Name: val, dtype: object"
      ]
     },
     "execution_count": 14,
     "metadata": {},
     "output_type": "execute_result"
    }
   ],
   "source": [
    "import pandas as pd\n",
    "\n",
    "print('Исходный DataFrame:')\n",
    "a = pd.DataFrame({'key':['a', 'a'], 'val':[1, 2]})\n",
    "print(a)\n",
    "print('Применяем apply:')\n",
    "a.groupby('key')['val'].apply(list)"
   ]
  },
  {
   "cell_type": "markdown",
   "metadata": {},
   "source": [
    "Результат выполнения\n",
    "\n",
    "<pre>\n",
    "Компонент\n",
    "echidna                                                [HYDRA-535]\n",
    "hydra            [HYDRA-534, HYDRA-530, HYDRA-527, HYDRA-524, H...\n",
    "hydra_utils                                            [HYDRA-510]\n",
    "hydramagrices                    [HYDRA-531, HYDRA-514, HYDRA-507]\n",
    "hydramatrices                    [HYDRA-532, HYDRA-518, HYDRA-513]\n",
    "</pre>"
   ]
  },
  {
   "cell_type": "code",
   "execution_count": 13,
   "metadata": {},
   "outputs": [
    {
     "data": {
      "text/plain": [
       "Компонент\n",
       "echidna                                                [HYDRA-535]\n",
       "hydra            [HYDRA-534, HYDRA-530, HYDRA-527, HYDRA-524, H...\n",
       "hydra_utils                                            [HYDRA-510]\n",
       "hydramagrices                    [HYDRA-531, HYDRA-514, HYDRA-507]\n",
       "hydramatrices                    [HYDRA-532, HYDRA-518, HYDRA-513]\n",
       "Name: Код, dtype: object"
      ]
     },
     "execution_count": 13,
     "metadata": {},
     "output_type": "execute_result"
    }
   ],
   "source": [
    "codes_list_df = df.groupby(['Компонент'])['Код'].apply(list)\n",
    "codes_list_df"
   ]
  },
  {
   "cell_type": "markdown",
   "metadata": {},
   "source": [
    "группировка датафрейма"
   ]
  },
  {
   "cell_type": "code",
   "execution_count": 14,
   "metadata": {},
   "outputs": [
    {
     "data": {
      "text/html": [
       "<div>\n",
       "<style scoped>\n",
       "    .dataframe tbody tr th:only-of-type {\n",
       "        vertical-align: middle;\n",
       "    }\n",
       "\n",
       "    .dataframe tbody tr th {\n",
       "        vertical-align: top;\n",
       "    }\n",
       "\n",
       "    .dataframe thead th {\n",
       "        text-align: right;\n",
       "    }\n",
       "</style>\n",
       "<table border=\"1\" class=\"dataframe\">\n",
       "  <thead>\n",
       "    <tr style=\"text-align: right;\">\n",
       "      <th></th>\n",
       "      <th>Затрачено в часах</th>\n",
       "      <th>Код</th>\n",
       "    </tr>\n",
       "    <tr>\n",
       "      <th>Компонент</th>\n",
       "      <th></th>\n",
       "      <th></th>\n",
       "    </tr>\n",
       "  </thead>\n",
       "  <tbody>\n",
       "    <tr>\n",
       "      <th>echidna</th>\n",
       "      <td>1.000000</td>\n",
       "      <td>[HYDRA-535]</td>\n",
       "    </tr>\n",
       "    <tr>\n",
       "      <th>hydra</th>\n",
       "      <td>6.545455</td>\n",
       "      <td>[HYDRA-534, HYDRA-530, HYDRA-527, HYDRA-524, H...</td>\n",
       "    </tr>\n",
       "    <tr>\n",
       "      <th>hydra_utils</th>\n",
       "      <td>16.000000</td>\n",
       "      <td>[HYDRA-510]</td>\n",
       "    </tr>\n",
       "    <tr>\n",
       "      <th>hydramagrices</th>\n",
       "      <td>4.000000</td>\n",
       "      <td>[HYDRA-531, HYDRA-514, HYDRA-507]</td>\n",
       "    </tr>\n",
       "    <tr>\n",
       "      <th>hydramatrices</th>\n",
       "      <td>1.666667</td>\n",
       "      <td>[HYDRA-532, HYDRA-518, HYDRA-513]</td>\n",
       "    </tr>\n",
       "  </tbody>\n",
       "</table>\n",
       "</div>"
      ],
      "text/plain": [
       "               Затрачено в часах  \\\n",
       "Компонент                          \n",
       "echidna                 1.000000   \n",
       "hydra                   6.545455   \n",
       "hydra_utils            16.000000   \n",
       "hydramagrices           4.000000   \n",
       "hydramatrices           1.666667   \n",
       "\n",
       "                                                             Код  \n",
       "Компонент                                                         \n",
       "echidna                                              [HYDRA-535]  \n",
       "hydra          [HYDRA-534, HYDRA-530, HYDRA-527, HYDRA-524, H...  \n",
       "hydra_utils                                          [HYDRA-510]  \n",
       "hydramagrices                  [HYDRA-531, HYDRA-514, HYDRA-507]  \n",
       "hydramatrices                  [HYDRA-532, HYDRA-518, HYDRA-513]  "
      ]
     },
     "execution_count": 14,
     "metadata": {},
     "output_type": "execute_result"
    }
   ],
   "source": [
    "df_with_avg_time = df.groupby(['Компонент'])['Затрачено в часах'].apply(np.mean)\n",
    "codes_list_df = pd.DataFrame(codes_list_df)\n",
    "df_with_avg_time = pd.DataFrame(df_with_avg_time)\n",
    "df_with_avg_time.merge(codes_list_df, left_on='Компонент', right_on='Компонент')\n"
   ]
  },
  {
   "cell_type": "markdown",
   "metadata": {},
   "source": [
    "Работа с данными формата HTML"
   ]
  },
  {
   "cell_type": "code",
   "execution_count": 3,
   "metadata": {},
   "outputs": [
    {
     "name": "stdout",
     "output_type": "stream",
     "text": [
      "The Shawshank Redemption :  drama\n",
      "The Dark Knight :  drama\n",
      "\"Back 2 the Future\" : None\n"
     ]
    }
   ],
   "source": [
    "from xml.etree import ElementTree\n",
    "\n",
    "file_path = './data/xml_content_description.xml'\n",
    "\n",
    "with open(file_path) as f:\n",
    "    \n",
    "    doc = ElementTree.parse(f)\n",
    "    content_titles = doc.getroot()\n",
    "    for movie in content_titles.findall(\"./Content/content_title\"):\n",
    "        try:\n",
    "            print(movie.find(\"./title\").text, \": \", movie.find(\"./genre\").text)\n",
    "        except:\n",
    "            print(movie.find(\"./title\").text, \": None\")"
   ]
  },
  {
   "cell_type": "markdown",
   "metadata": {},
   "source": [
    "XML"
   ]
  },
  {
   "cell_type": "code",
   "execution_count": 4,
   "metadata": {
    "scrolled": true
   },
   "outputs": [
    {
     "name": "stdout",
     "output_type": "stream",
     "text": [
      "2\n",
      "avg_duration:  8820.0\n",
      "avg_duration=8820.0\n"
     ]
    }
   ],
   "source": [
    "import math\n",
    "from xml.etree import ElementTree\n",
    "import numpy as np\n",
    "\n",
    "file_path = './data/xml_content_description.xml'\n",
    "duration = []\n",
    "num_content = 0\n",
    "\n",
    "with open(file_path) as f:\n",
    "    ## -- ВАШ КОД ТУТ --\n",
    "    doc =ElementTree.parse(f)\n",
    "    content_titles = doc.getroot()\n",
    "    for movie in content_titles.findall(\"./Content/content_title\"):\n",
    "        try:\n",
    "            duration.append(int(movie.find(\"./duration\").text))\n",
    "            num_content += 1\n",
    "        except:\n",
    "            print(num_content)\n",
    "print('avg_duration: ', np.average(duration))\n",
    "print(\"avg_duration={}\".format(sum(duration)/num_content))"
   ]
  },
  {
   "cell_type": "markdown",
   "metadata": {},
   "source": [
    "работа с XML"
   ]
  },
  {
   "cell_type": "code",
   "execution_count": 1,
   "metadata": {},
   "outputs": [],
   "source": [
    "import math\n",
    "from xml.etree import ElementTree\n",
    "import pandas as pd\n",
    "file_path = './data/xml_content_description.xml'\n",
    "content_list = []\n",
    "count = 0\n",
    "with open(file_path) as f:\n",
    "    doc =ElementTree.parse(f)\n",
    "    content_titles = doc.getroot()\n",
    "    for movie in content_titles.findall(\"./Content/content_title\"):\n",
    "        for i in movie:\n",
    "            content_list.append({i.tag: i.text})\n",
    "df = pd.DataFrame(columns=['movie_id', 'tag', 'value'])\n",
    "for i, j in enumerate(content_list):\n",
    "    df.loc[i] = {'movie_id': i, 'tag': j.keys(), 'value': j.values()}\n",
    "df.to_csv('movie.csv')"
   ]
  },
  {
   "cell_type": "code",
   "execution_count": null,
   "metadata": {},
   "outputs": [],
   "source": []
  }
 ],
 "metadata": {
  "kernelspec": {
   "display_name": "Python 3",
   "language": "python",
   "name": "python3"
  },
  "language_info": {
   "codemirror_mode": {
    "name": "ipython",
    "version": 3
   },
   "file_extension": ".py",
   "mimetype": "text/x-python",
   "name": "python",
   "nbconvert_exporter": "python",
   "pygments_lexer": "ipython3",
   "version": "3.7.3"
  }
 },
 "nbformat": 4,
 "nbformat_minor": 2
}
